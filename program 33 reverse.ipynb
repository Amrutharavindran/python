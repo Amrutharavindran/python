{
 "cells": [
  {
   "cell_type": "code",
   "execution_count": 5,
   "id": "6e61e2b6",
   "metadata": {},
   "outputs": [
    {
     "name": "stdout",
     "output_type": "stream",
     "text": [
      "enter a number:1000\n",
      "reverse of number is:\n",
      "0001"
     ]
    }
   ],
   "source": [
    "#reverse of a number\n",
    "n=int(input(\"enter a number:\"))\n",
    "print(\"reverse of number is:\")\n",
    "rev=0\n",
    "while(n!=0):\n",
    "    p=n%10\n",
    "    rev=rev*10+p\n",
    "    n//=10\n",
    "    print(p,end=\"\")"
   ]
  },
  {
   "cell_type": "code",
   "execution_count": null,
   "id": "41f36900",
   "metadata": {},
   "outputs": [],
   "source": []
  },
  {
   "cell_type": "code",
   "execution_count": null,
   "id": "44a4f16a",
   "metadata": {},
   "outputs": [],
   "source": []
  }
 ],
 "metadata": {
  "kernelspec": {
   "display_name": "Python 3 (ipykernel)",
   "language": "python",
   "name": "python3"
  },
  "language_info": {
   "codemirror_mode": {
    "name": "ipython",
    "version": 3
   },
   "file_extension": ".py",
   "mimetype": "text/x-python",
   "name": "python",
   "nbconvert_exporter": "python",
   "pygments_lexer": "ipython3",
   "version": "3.10.6"
  }
 },
 "nbformat": 4,
 "nbformat_minor": 5
}
