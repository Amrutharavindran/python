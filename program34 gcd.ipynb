{
 "cells": [
  {
   "cell_type": "code",
   "execution_count": 2,
   "metadata": {},
   "outputs": [
    {
     "name": "stdout",
     "output_type": "stream",
     "text": [
      "Enter a number:123\n",
      "Enter a number:45\n",
      "gcd of the number is 3.0\n"
     ]
    }
   ],
   "source": [
    "#gcd of a number\n",
    "x=float(input(\"Enter a number:\"))\n",
    "y=float(input(\"Enter a number:\"))\n",
    "if(x<y):\n",
    "    c=x\n",
    "else:\n",
    "    c=y\n",
    "while(c>0):\n",
    "    if(x%c==0)and(y%c==0):\n",
    "        print(\"gcd of the number is\",c)\n",
    "        break\n",
    "    c=c-1\n",
    "\n",
    "\n",
    "        "
   ]
  },
  {
   "cell_type": "code",
   "execution_count": null,
   "metadata": {
    "collapsed": true
   },
   "outputs": [],
   "source": []
  },
  {
   "cell_type": "code",
   "execution_count": null,
   "metadata": {
    "collapsed": true
   },
   "outputs": [],
   "source": []
  }
 ],
 "metadata": {
  "kernelspec": {
   "display_name": "Python 3",
   "language": "python",
   "name": "python3"
  },
  "language_info": {
   "codemirror_mode": {
    "name": "ipython",
    "version": 3
   },
   "file_extension": ".py",
   "mimetype": "text/x-python",
   "name": "python",
   "nbconvert_exporter": "python",
   "pygments_lexer": "ipython3",
   "version": "3.6.3"
  }
 },
 "nbformat": 4,
 "nbformat_minor": 2
}
