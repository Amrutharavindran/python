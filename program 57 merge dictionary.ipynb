{
 "cells": [
  {
   "cell_type": "code",
   "execution_count": 4,
   "id": "468e74ad",
   "metadata": {},
   "outputs": [
    {
     "name": "stdout",
     "output_type": "stream",
     "text": [
      "First dictionary {12: 'pink', 20: 'white', 3: 'red', 8: 'magenta'}\n",
      "Second dictionary {31: 'orange', 14: 'banana', 22: 'apple'}\n",
      "\n",
      " Merged dictionary is:\n",
      "{12: 'pink', 20: 'white', 3: 'red', 8: 'magenta', 31: 'orange', 14: 'banana', 22: 'apple'}\n"
     ]
    }
   ],
   "source": [
    "#merge 2 dictionaries\n",
    "dict_1={12:\"pink\",20:\"white\",3:\"red\",8:\"magenta\"}\n",
    "dict_2={31:\"orange\",14:\"banana\",22:\"apple\"}\n",
    "print(\"First dictionary\",dict_1)\n",
    "print(\"Second dictionary\",dict_2)\n",
    "dict_1.update(dict_2)\n",
    "print(\"\\n Merged dictionary is:\")\n",
    "print(dict_1)"
   ]
  },
  {
   "cell_type": "code",
   "execution_count": null,
   "id": "0b9aa5f0",
   "metadata": {},
   "outputs": [],
   "source": []
  }
 ],
 "metadata": {
  "kernelspec": {
   "display_name": "Python 3 (ipykernel)",
   "language": "python",
   "name": "python3"
  },
  "language_info": {
   "codemirror_mode": {
    "name": "ipython",
    "version": 3
   },
   "file_extension": ".py",
   "mimetype": "text/x-python",
   "name": "python",
   "nbconvert_exporter": "python",
   "pygments_lexer": "ipython3",
   "version": "3.10.6"
  }
 },
 "nbformat": 4,
 "nbformat_minor": 5
}
