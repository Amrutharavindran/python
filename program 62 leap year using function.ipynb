{
 "cells": [
  {
   "cell_type": "code",
   "execution_count": 2,
   "id": "24154c08",
   "metadata": {},
   "outputs": [
    {
     "name": "stdout",
     "output_type": "stream",
     "text": [
      "enter current year:2001\n",
      "enter final year:2040\n",
      "leap years between 2001 and 2040 :\n",
      "2004\n",
      "2008\n",
      "2012\n",
      "2016\n",
      "2020\n",
      "2024\n",
      "2028\n",
      "2032\n",
      "2036\n",
      "2040\n"
     ]
    }
   ],
   "source": [
    "#future leap year\n",
    "def leap(l,u):\n",
    "    print(\"leap years between\",l,\"and\",u,\":\")\n",
    "    for i in range(l,u+1):\n",
    "        if(i%4==0)and(i%100!=0)or(i%400==0):\n",
    "            print(i)\n",
    "a=int(input(\"enter current year:\"))\n",
    "b=int(input(\"enter final year:\"))\n",
    "leap(a,b)\n",
    "    "
   ]
  },
  {
   "cell_type": "code",
   "execution_count": null,
   "id": "2f067edb",
   "metadata": {},
   "outputs": [],
   "source": []
  }
 ],
 "metadata": {
  "kernelspec": {
   "display_name": "Python 3 (ipykernel)",
   "language": "python",
   "name": "python3"
  },
  "language_info": {
   "codemirror_mode": {
    "name": "ipython",
    "version": 3
   },
   "file_extension": ".py",
   "mimetype": "text/x-python",
   "name": "python",
   "nbconvert_exporter": "python",
   "pygments_lexer": "ipython3",
   "version": "3.10.6"
  }
 },
 "nbformat": 4,
 "nbformat_minor": 5
}
