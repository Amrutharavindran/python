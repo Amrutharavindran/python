{
 "cells": [
  {
   "cell_type": "code",
   "execution_count": 3,
   "id": "8e8e056f",
   "metadata": {},
   "outputs": [
    {
     "name": "stdout",
     "output_type": "stream",
     "text": [
      "names= ['arun', 'nimya', 'chinju', 'vimal', 'aysha', 'madhu', 'vishnu']\n",
      "occurance of 'a' in ['arun', 'nimya', 'chinju', 'vimal', 'aysha', 'madhu', 'vishnu'] is: 6\n"
     ]
    }
   ],
   "source": [
    "#occurance of a in list\n",
    "names=['arun','nimya','chinju','vimal','aysha','madhu','vishnu']\n",
    "print('names=',names)\n",
    "count=0\n",
    "for name in names:\n",
    "    count+=name.count('a')\n",
    "print(\"occurance of 'a' in\",names,\"is:\",count)"
   ]
  },
  {
   "cell_type": "code",
   "execution_count": null,
   "id": "794c819d",
   "metadata": {},
   "outputs": [],
   "source": []
  }
 ],
 "metadata": {
  "kernelspec": {
   "display_name": "Python 3 (ipykernel)",
   "language": "python",
   "name": "python3"
  },
  "language_info": {
   "codemirror_mode": {
    "name": "ipython",
    "version": 3
   },
   "file_extension": ".py",
   "mimetype": "text/x-python",
   "name": "python",
   "nbconvert_exporter": "python",
   "pygments_lexer": "ipython3",
   "version": "3.10.6"
  }
 },
 "nbformat": 4,
 "nbformat_minor": 5
}
