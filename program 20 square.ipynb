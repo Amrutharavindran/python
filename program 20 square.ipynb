{
 "cells": [
  {
   "cell_type": "code",
   "execution_count": 2,
   "metadata": {},
   "outputs": [
    {
     "name": "stdout",
     "output_type": "stream",
     "text": [
      "Enter length of the rectangle:3\n",
      "Enter breadth of the rectangle:12\n",
      "The rectangle is not a Square\n"
     ]
    }
   ],
   "source": [
    "a=int(input(\"Enter length of the rectangle:\"))\n",
    "b=int(input(\"Enter breadth of the rectangle:\"))\n",
    "if (a==b):\n",
    "    print(\"The rectangle is a Square\")\n",
    "else:\n",
    "    print(\"The rectangle is not a Square\")"
   ]
  },
  {
   "cell_type": "code",
   "execution_count": null,
   "metadata": {
    "collapsed": true
   },
   "outputs": [],
   "source": []
  }
 ],
 "metadata": {
  "kernelspec": {
   "display_name": "Python 3",
   "language": "python",
   "name": "python3"
  },
  "language_info": {
   "codemirror_mode": {
    "name": "ipython",
    "version": 3
   },
   "file_extension": ".py",
   "mimetype": "text/x-python",
   "name": "python",
   "nbconvert_exporter": "python",
   "pygments_lexer": "ipython3",
   "version": "3.6.3"
  }
 },
 "nbformat": 4,
 "nbformat_minor": 2
}
