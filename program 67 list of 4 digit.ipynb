{
 "cells": [
  {
   "cell_type": "code",
   "execution_count": 3,
   "id": "6f0c3d4e",
   "metadata": {},
   "outputs": [
    {
     "name": "stdout",
     "output_type": "stream",
     "text": [
      "enter 4 digit lower range:2356\n",
      "enter 4 digit upper range:9874\n",
      "list: [4624, 6084, 6400, 8464]\n"
     ]
    }
   ],
   "source": [
    "#list of 4 digit number\n",
    "import math\n",
    "n1=int(input(\"enter 4 digit lower range:\"))\n",
    "n2=int(input(\"enter 4 digit upper range:\"))\n",
    "l=[]\n",
    "x=0\n",
    "for i in range(n1,n2):\n",
    "    x=i\n",
    "    while(x!=0):\n",
    "        k1=x%10\n",
    "        x=int(x/10)\n",
    "        k2=x%10\n",
    "        x=int(x/10)\n",
    "        k3=x%10\n",
    "        x=int(x/10)\n",
    "        k4=x%10\n",
    "        x=int(x/10)\n",
    "        sq=int(math.sqrt(i))\n",
    "    if(sq*sq==i):\n",
    "        if(k1%2==0 and k2%2==0 and k3%2==0 and k4%2==0):\n",
    "            l.append(i)\n",
    "print(\"list:\",l)"
   ]
  },
  {
   "cell_type": "code",
   "execution_count": null,
   "id": "e1073cee",
   "metadata": {},
   "outputs": [],
   "source": []
  }
 ],
 "metadata": {
  "kernelspec": {
   "display_name": "Python 3 (ipykernel)",
   "language": "python",
   "name": "python3"
  },
  "language_info": {
   "codemirror_mode": {
    "name": "ipython",
    "version": 3
   },
   "file_extension": ".py",
   "mimetype": "text/x-python",
   "name": "python",
   "nbconvert_exporter": "python",
   "pygments_lexer": "ipython3",
   "version": "3.10.6"
  }
 },
 "nbformat": 4,
 "nbformat_minor": 5
}
