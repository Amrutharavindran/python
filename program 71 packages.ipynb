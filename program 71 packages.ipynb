{
 "cells": [
  {
   "cell_type": "code",
   "execution_count": 3,
   "id": "295614f1",
   "metadata": {},
   "outputs": [
    {
     "name": "stdout",
     "output_type": "stream",
     "text": [
      "1.Rectangle\n",
      "2.Circle\n",
      "3.Cuboid\n",
      "4.Sphere\n",
      "5.Exit\n",
      "Enter your choice:1\n",
      "enter length:5\n",
      "enter breadth:6\n",
      "Area of rectangle: 30\n",
      "perimeter of rectangle: 22\n",
      "1.Rectangle\n",
      "2.Circle\n",
      "3.Cuboid\n",
      "4.Sphere\n",
      "5.Exit\n",
      "Enter your choice:2\n",
      "enter radius:6\n",
      "Area of circle: 113.03999999999999\n",
      "perimeter of circle: 37.68\n",
      "1.Rectangle\n",
      "2.Circle\n",
      "3.Cuboid\n",
      "4.Sphere\n",
      "5.Exit\n",
      "Enter your choice:3\n",
      "enter length:5\n",
      "enter breadth:8\n",
      "enter height:7\n",
      "Area of cuboid: 262\n",
      "perimeter of cuboid: 80\n",
      "1.Rectangle\n",
      "2.Circle\n",
      "3.Cuboid\n",
      "4.Sphere\n",
      "5.Exit\n",
      "Enter your choice:4\n",
      "enter radius:12\n",
      "Area of sphere: 904.3199999999999\n",
      "perimeter of sphere: 1808.64\n",
      "1.Rectangle\n",
      "2.Circle\n",
      "3.Cuboid\n",
      "4.Sphere\n",
      "5.Exit\n",
      "Enter your choice:5\n",
      "exiting...\n"
     ]
    }
   ],
   "source": [
    "from graphics import rectangle\n",
    "from graphics import circle\n",
    "from graphics.graphics3D import cuboid\n",
    "from graphics.graphics3D import sphere\n",
    "\n",
    "while(1):\n",
    "    print(\"1.Rectangle\\n2.Circle\\n3.Cuboid\\n4.Sphere\\n5.Exit\")\n",
    "    ch=int(input(\"Enter your choice:\"))\n",
    "    if(ch==1):\n",
    "        l=int(input(\"enter length:\"))\n",
    "        b=int(input(\"enter breadth:\"))\n",
    "        rectangle.rectarea(l,b)\n",
    "        rectangle.rectperi(l,b)\n",
    "    elif(ch==2):\n",
    "        r=int(input(\"enter radius:\"))\n",
    "        circle.circlearea(r)\n",
    "        circle.circleperi(r)\n",
    "    elif(ch==3):\n",
    "        l=int(input(\"enter length:\"))\n",
    "        b=int(input(\"enter breadth:\"))\n",
    "        h=int(input(\"enter height:\"))\n",
    "        cuboid.cuboidarea(l,b,h)\n",
    "        cuboid.cuboidperi(l,b,h)\n",
    "    elif(ch==4):\n",
    "        r=int(input(\"enter radius:\"))\n",
    "        sphere.spherearea(r)\n",
    "        sphere.sphereperi(r)\n",
    "    else:\n",
    "        print(\"exiting...\")\n",
    "        break\n",
    "        "
   ]
  },
  {
   "cell_type": "code",
   "execution_count": null,
   "id": "94209c6b",
   "metadata": {},
   "outputs": [],
   "source": []
  }
 ],
 "metadata": {
  "kernelspec": {
   "display_name": "Python 3 (ipykernel)",
   "language": "python",
   "name": "python3"
  },
  "language_info": {
   "codemirror_mode": {
    "name": "ipython",
    "version": 3
   },
   "file_extension": ".py",
   "mimetype": "text/x-python",
   "name": "python",
   "nbconvert_exporter": "python",
   "pygments_lexer": "ipython3",
   "version": "3.10.6"
  }
 },
 "nbformat": 4,
 "nbformat_minor": 5
}
