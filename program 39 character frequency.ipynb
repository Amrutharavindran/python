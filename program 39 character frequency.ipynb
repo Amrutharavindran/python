{
 "cells": [
  {
   "cell_type": "code",
   "execution_count": 13,
   "id": "0c31ed9b",
   "metadata": {
    "scrolled": true
   },
   "outputs": [
    {
     "name": "stdout",
     "output_type": "stream",
     "text": [
      "Enter a string:kmctschool\n",
      "k frequency of character 1 time(s)\n",
      "m frequency of character 1 time(s)\n",
      "c frequency of character 2 time(s)\n",
      "t frequency of character 1 time(s)\n",
      "s frequency of character 1 time(s)\n",
      "h frequency of character 1 time(s)\n",
      "o frequency of character 2 time(s)\n",
      "l frequency of character 1 time(s)\n"
     ]
    }
   ],
   "source": [
    "#frequency of characters in a string\n",
    "s=input(\"Enter a string:\")\n",
    "frq={}\n",
    "for i in s:\n",
    "    if i in frq:\n",
    "        frq[i]=frq[i]+1\n",
    "        \n",
    "    else:\n",
    "        frq[i]=1\n",
    "for keys,value in frq.items():\n",
    "    print(keys,\"frequency of character\",value,'time(s)')\n",
    "    "
   ]
  },
  {
   "cell_type": "code",
   "execution_count": null,
   "id": "c1d91a46",
   "metadata": {},
   "outputs": [],
   "source": []
  },
  {
   "cell_type": "code",
   "execution_count": null,
   "id": "4b2da8d0",
   "metadata": {},
   "outputs": [],
   "source": []
  }
 ],
 "metadata": {
  "kernelspec": {
   "display_name": "Python 3 (ipykernel)",
   "language": "python",
   "name": "python3"
  },
  "language_info": {
   "codemirror_mode": {
    "name": "ipython",
    "version": 3
   },
   "file_extension": ".py",
   "mimetype": "text/x-python",
   "name": "python",
   "nbconvert_exporter": "python",
   "pygments_lexer": "ipython3",
   "version": "3.10.6"
  }
 },
 "nbformat": 4,
 "nbformat_minor": 5
}
