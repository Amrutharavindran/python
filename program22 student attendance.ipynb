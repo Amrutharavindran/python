{
 "cells": [
  {
   "cell_type": "code",
   "execution_count": 8,
   "metadata": {},
   "outputs": [
    {
     "name": "stdout",
     "output_type": "stream",
     "text": [
      "Enter number of classes held:40\n",
      "Enter number of classes attented:35\n",
      "The percentage of class is: 87.5\n",
      "The student is allowed to sit in the exam\n"
     ]
    }
   ],
   "source": [
    "a=int(input(\"Enter number of classes held:\"))\n",
    "b=int(input(\"Enter number of classes attented:\"))\n",
    "c=(b/a)*100 \n",
    "print(\"The percentage of class is:\" ,c)\n",
    "if(c>=75):\n",
    "    print(\"The student is allowed to sit in the exam\")\n",
    "else:\n",
    "        print(\"The student is not allowed to sit in the exam\")\n"
   ]
  },
  {
   "cell_type": "code",
   "execution_count": null,
   "metadata": {
    "collapsed": true
   },
   "outputs": [],
   "source": []
  },
  {
   "cell_type": "code",
   "execution_count": null,
   "metadata": {
    "collapsed": true
   },
   "outputs": [],
   "source": []
  }
 ],
 "metadata": {
  "kernelspec": {
   "display_name": "Python 3",
   "language": "python",
   "name": "python3"
  },
  "language_info": {
   "codemirror_mode": {
    "name": "ipython",
    "version": 3
   },
   "file_extension": ".py",
   "mimetype": "text/x-python",
   "name": "python",
   "nbconvert_exporter": "python",
   "pygments_lexer": "ipython3",
   "version": "3.6.3"
  }
 },
 "nbformat": 4,
 "nbformat_minor": 2
}
