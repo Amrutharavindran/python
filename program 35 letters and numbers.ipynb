{
 "cells": [
  {
   "cell_type": "code",
   "execution_count": 1,
   "id": "48fc4e1b",
   "metadata": {},
   "outputs": [
    {
     "name": "stdout",
     "output_type": "stream",
     "text": [
      "enter a string:amrutha2456\n",
      "the total letters in the string is:7\n",
      "the total numbers in the string is:4\n"
     ]
    }
   ],
   "source": [
    "#calculate digits and numbers of the string\n",
    "a=input(\"enter a string:\")\n",
    "d=0\n",
    "l=0\n",
    "for i in a:\n",
    "    if(i.isdigit()):\n",
    "        d=d+1\n",
    "    elif(i.isalpha()):\n",
    "        l=l+1\n",
    "print(\"the total letters in the string is:%d\"%l)\n",
    "print(\"the total numbers in the string is:%d\"%d)"
   ]
  },
  {
   "cell_type": "code",
   "execution_count": null,
   "id": "b2d10e12",
   "metadata": {},
   "outputs": [],
   "source": []
  }
 ],
 "metadata": {
  "kernelspec": {
   "display_name": "Python 3 (ipykernel)",
   "language": "python",
   "name": "python3"
  },
  "language_info": {
   "codemirror_mode": {
    "name": "ipython",
    "version": 3
   },
   "file_extension": ".py",
   "mimetype": "text/x-python",
   "name": "python",
   "nbconvert_exporter": "python",
   "pygments_lexer": "ipython3",
   "version": "3.10.6"
  }
 },
 "nbformat": 4,
 "nbformat_minor": 5
}
