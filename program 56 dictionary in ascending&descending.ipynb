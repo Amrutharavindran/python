{
 "cells": [
  {
   "cell_type": "code",
   "execution_count": 1,
   "id": "6b58d392",
   "metadata": {},
   "outputs": [
    {
     "name": "stdout",
     "output_type": "stream",
     "text": [
      "The original dictionary: {'kiran': 32, 'Deepa': 14, 'Raju': 53, 'Meera': 1, 'Robin': 20}\n",
      "The dictionary in Ascending order: {'Meera': 1, 'Deepa': 14, 'Robin': 20, 'kiran': 32, 'Raju': 53}\n",
      "The dictionary in  Descending order: {'Raju': 53, 'kiran': 32, 'Robin': 20, 'Deepa': 14, 'Meera': 1}\n"
     ]
    }
   ],
   "source": [
    "#sorting dictionary values in ascending and descending order\n",
    "d={\"kiran\":32,\"Deepa\":14,\"Raju\":53,\"Meera\":1,\"Robin\":20}\n",
    "print(\"The original dictionary:\",d)\n",
    "\n",
    "sort_d=sorted(d.items(),key=lambda x:x[1])\n",
    "sort_d_dict=dict(sort_d)\n",
    "print(\"The dictionary in Ascending order:\",sort_d_dict)\n",
    "\n",
    "sort_d=sorted(d.items(),key=lambda x:x[1],reverse=True)\n",
    "sort_d_dict=dict(sort_d)\n",
    "print(\"The dictionary in  Descending order:\",sort_d_dict)\n"
   ]
  },
  {
   "cell_type": "code",
   "execution_count": null,
   "id": "273be89d",
   "metadata": {},
   "outputs": [],
   "source": []
  }
 ],
 "metadata": {
  "kernelspec": {
   "display_name": "Python 3 (ipykernel)",
   "language": "python",
   "name": "python3"
  },
  "language_info": {
   "codemirror_mode": {
    "name": "ipython",
    "version": 3
   },
   "file_extension": ".py",
   "mimetype": "text/x-python",
   "name": "python",
   "nbconvert_exporter": "python",
   "pygments_lexer": "ipython3",
   "version": "3.10.6"
  }
 },
 "nbformat": 4,
 "nbformat_minor": 5
}
