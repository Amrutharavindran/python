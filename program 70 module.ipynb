{
 "cells": [
  {
   "cell_type": "code",
   "execution_count": null,
   "id": "fd57c406",
   "metadata": {},
   "outputs": [
    {
     "name": "stdout",
     "output_type": "stream",
     "text": [
      "1.Rectangle\n",
      "2.Circle\n",
      "3.Exit\n",
      "enter your choice:1\n",
      "enter length4\n",
      "enter breadth2\n",
      "Area of Rectangle: 8\n",
      "perimeter of rectangle: 12\n",
      "1.Rectangle\n",
      "2.Circle\n",
      "3.Exit\n",
      "enter your choice:2\n",
      "enter radius:4\n",
      "Area of circle: 50.24\n",
      "perimeterof circle: 25.12\n",
      "1.Rectangle\n",
      "2.Circle\n",
      "3.Exit\n"
     ]
    }
   ],
   "source": [
    "import rectangle\n",
    "import circle\n",
    "while(1):\n",
    "    print(\"1.Rectangle\\n2.Circle\\n3.Exit\")\n",
    "    ch=int(input(\"enter your choice:\"))\n",
    "    if(ch==1):\n",
    "        l=int(input(\"enter length\"))\n",
    "        b=int(input(\"enter breadth\"))\n",
    "        rectangle.rectarea(l,b)\n",
    "        rectangle.rectperi(l,b)\n",
    "    elif(ch==2):\n",
    "        r=int(input(\"enter radius:\"))\n",
    "        circle.circlearea(r)\n",
    "        circle.circleperi(r)\n",
    "    else:\n",
    "        print(\"exiting...\")\n",
    "        break\n",
    "        \n"
   ]
  },
  {
   "cell_type": "code",
   "execution_count": null,
   "id": "2ac2747b",
   "metadata": {},
   "outputs": [],
   "source": []
  }
 ],
 "metadata": {
  "kernelspec": {
   "display_name": "Python 3 (ipykernel)",
   "language": "python",
   "name": "python3"
  },
  "language_info": {
   "codemirror_mode": {
    "name": "ipython",
    "version": 3
   },
   "file_extension": ".py",
   "mimetype": "text/x-python",
   "name": "python",
   "nbconvert_exporter": "python",
   "pygments_lexer": "ipython3",
   "version": "3.10.6"
  }
 },
 "nbformat": 4,
 "nbformat_minor": 5
}
