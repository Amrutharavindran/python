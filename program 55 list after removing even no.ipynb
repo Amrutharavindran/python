{
 "cells": [
  {
   "cell_type": "code",
   "execution_count": 8,
   "id": "be94205d",
   "metadata": {},
   "outputs": [
    {
     "name": "stdout",
     "output_type": "stream",
     "text": [
      "list items= [10, 27, 37, 44, 51, 65, 84]\n",
      "list items after removing even numbers: [27, 37, 51, 65]\n"
     ]
    }
   ],
   "source": [
    "evenlist=[10,27,37,44,51,65,84]\n",
    "print(\"list items=\",evenlist)\n",
    "for ev in evenlist:\n",
    "    if(ev %2==0):\n",
    "        evenlist.remove(ev)\n",
    "print(\"list items after removing even numbers:\",evenlist)\n"
   ]
  },
  {
   "cell_type": "code",
   "execution_count": null,
   "id": "eaa2ff4f",
   "metadata": {},
   "outputs": [],
   "source": []
  },
  {
   "cell_type": "code",
   "execution_count": null,
   "id": "1d1a0353",
   "metadata": {},
   "outputs": [],
   "source": []
  }
 ],
 "metadata": {
  "kernelspec": {
   "display_name": "Python 3 (ipykernel)",
   "language": "python",
   "name": "python3"
  },
  "language_info": {
   "codemirror_mode": {
    "name": "ipython",
    "version": 3
   },
   "file_extension": ".py",
   "mimetype": "text/x-python",
   "name": "python",
   "nbconvert_exporter": "python",
   "pygments_lexer": "ipython3",
   "version": "3.10.6"
  }
 },
 "nbformat": 4,
 "nbformat_minor": 5
}
