{
 "cells": [
  {
   "cell_type": "code",
   "execution_count": 1,
   "metadata": {},
   "outputs": [
    {
     "name": "stdout",
     "output_type": "stream",
     "text": [
      "enter the amount:200000\n",
      "enter rate of interest:3\n",
      "enter the number of years:2\n",
      "simple interest is: 12000.0\n"
     ]
    }
   ],
   "source": [
    "p=int(input('enter the amount:'))\n",
    "r=int(input('enter rate of interest:'))\n",
    "n=int(input('enter the number of years:'))\n",
    "si=(p*r*n)/100\n",
    "print('simple interest is:',si)"
   ]
  },
  {
   "cell_type": "code",
   "execution_count": null,
   "metadata": {
    "collapsed": true
   },
   "outputs": [],
   "source": []
  }
 ],
 "metadata": {
  "kernelspec": {
   "display_name": "Python 3",
   "language": "python",
   "name": "python3"
  },
  "language_info": {
   "codemirror_mode": {
    "name": "ipython",
    "version": 3
   },
   "file_extension": ".py",
   "mimetype": "text/x-python",
   "name": "python",
   "nbconvert_exporter": "python",
   "pygments_lexer": "ipython3",
   "version": "3.6.3"
  }
 },
 "nbformat": 4,
 "nbformat_minor": 2
}
