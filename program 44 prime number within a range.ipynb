{
 "cells": [
  {
   "cell_type": "code",
   "execution_count": 39,
   "id": "d4ad13df",
   "metadata": {},
   "outputs": [
    {
     "name": "stdout",
     "output_type": "stream",
     "text": [
      "Enter the lower range:12\n",
      "Enter the upper range:60\n",
      "prime numbers within the range are:\n",
      "13 17 19 23 29 31 37 41 43 47 53 59 "
     ]
    }
   ],
   "source": [
    "#prime number within a range\n",
    "start=int(input(\"Enter the lower range:\"))\n",
    "stop=int(input(\"Enter the upper range:\"))\n",
    "print(\"prime numbers within the range are:\")\n",
    "for val in range(start,stop):\n",
    "    if (val>1):\n",
    "        for i in range(2,val):\n",
    "            if(val%i)==0:\n",
    "                break\n",
    "        else:\n",
    "                print(val,end=\" \")\n",
    "            "
   ]
  },
  {
   "cell_type": "code",
   "execution_count": null,
   "id": "a80c2f71",
   "metadata": {},
   "outputs": [],
   "source": []
  },
  {
   "cell_type": "code",
   "execution_count": null,
   "id": "c42e3a0d",
   "metadata": {},
   "outputs": [],
   "source": []
  }
 ],
 "metadata": {
  "kernelspec": {
   "display_name": "Python 3 (ipykernel)",
   "language": "python",
   "name": "python3"
  },
  "language_info": {
   "codemirror_mode": {
    "name": "ipython",
    "version": 3
   },
   "file_extension": ".py",
   "mimetype": "text/x-python",
   "name": "python",
   "nbconvert_exporter": "python",
   "pygments_lexer": "ipython3",
   "version": "3.10.6"
  }
 },
 "nbformat": 4,
 "nbformat_minor": 5
}
