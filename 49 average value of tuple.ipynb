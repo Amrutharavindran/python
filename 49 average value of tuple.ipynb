{
 "cells": [
  {
   "cell_type": "code",
   "execution_count": 1,
   "id": "07b789be",
   "metadata": {},
   "outputs": [
    {
     "name": "stdout",
     "output_type": "stream",
     "text": [
      "enter numbers separated by comma:1,3,4,5,56\n",
      "Average value of the numbers in the tuple: 13.8\n"
     ]
    }
   ],
   "source": [
    "#average value of a tuple\n",
    "t=tuple(input(\"enter numbers separated by comma:\").split(\",\"))\n",
    "l=len(t)\n",
    "c=0\n",
    "for i in range(l):\n",
    "    c=int(t[i])+c\n",
    "    avg=c/l\n",
    "print(\"Average value of the numbers in the tuple:\",avg)"
   ]
  },
  {
   "cell_type": "markdown",
   "id": "93305296",
   "metadata": {},
   "source": []
  }
 ],
 "metadata": {
  "kernelspec": {
   "display_name": "Python 3 (ipykernel)",
   "language": "python",
   "name": "python3"
  },
  "language_info": {
   "codemirror_mode": {
    "name": "ipython",
    "version": 3
   },
   "file_extension": ".py",
   "mimetype": "text/x-python",
   "name": "python",
   "nbconvert_exporter": "python",
   "pygments_lexer": "ipython3",
   "version": "3.10.6"
  }
 },
 "nbformat": 4,
 "nbformat_minor": 5
}
