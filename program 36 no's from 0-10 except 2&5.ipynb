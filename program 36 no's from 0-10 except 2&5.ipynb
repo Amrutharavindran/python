{
 "cells": [
  {
   "cell_type": "code",
   "execution_count": 1,
   "id": "b59512d9",
   "metadata": {},
   "outputs": [
    {
     "name": "stdout",
     "output_type": "stream",
     "text": [
      "The numbers from 0-10 except 2 and 5 is:\n",
      "0\n",
      "1\n",
      "3\n",
      "4\n",
      "6\n",
      "7\n",
      "8\n",
      "9\n",
      "10\n"
     ]
    }
   ],
   "source": [
    "# numbers from 0 to 10 except 2 and 5\n",
    "print(\"The numbers from 0-10 except 2 and 5 is:\")\n",
    "for i in range(11):\n",
    "    if(i==2):\n",
    "        continue;\n",
    "    if(i==5):\n",
    "        continue;\n",
    "    print(i)   "
   ]
  },
  {
   "cell_type": "code",
   "execution_count": null,
   "id": "bbdac939",
   "metadata": {},
   "outputs": [],
   "source": []
  }
 ],
 "metadata": {
  "kernelspec": {
   "display_name": "Python 3 (ipykernel)",
   "language": "python",
   "name": "python3"
  },
  "language_info": {
   "codemirror_mode": {
    "name": "ipython",
    "version": 3
   },
   "file_extension": ".py",
   "mimetype": "text/x-python",
   "name": "python",
   "nbconvert_exporter": "python",
   "pygments_lexer": "ipython3",
   "version": "3.10.6"
  }
 },
 "nbformat": 4,
 "nbformat_minor": 5
}
