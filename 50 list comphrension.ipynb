{
 "cells": [
  {
   "cell_type": "code",
   "execution_count": 3,
   "id": "8f75bca7",
   "metadata": {},
   "outputs": [
    {
     "name": "stdout",
     "output_type": "stream",
     "text": [
      "Enter numbers with comma separated:1,-9,-4,2,7,12\n",
      "positive integers from the given list are: [1, 2, 7, 12]\n",
      "square of numbers in the list is [1, 81, 16, 4, 49, 144]\n",
      "enter the word:apple\n",
      "vowels in apple are ['a', 'e']\n",
      "ordinal values of ['a', 'p', 'p', 'l', 'e'] are: [97, 112, 112, 108, 101]\n"
     ]
    }
   ],
   "source": [
    "#list comphrension,list of positive numbers\n",
    "n=input(\"Enter numbers with comma separated:\").split(\",\")\n",
    "a=map(int,n)\n",
    "new1=[x for x in a if x>0]\n",
    "print(\"positive integers from the given list are:\",new1)\n",
    "d=map(int,n)\n",
    "\n",
    "#square of n numbers\n",
    "new2=[x**2 for x in d]\n",
    "print(\"square of numbers in the list is\",new2)\n",
    "\n",
    "#list of vowels\n",
    "vw=input(\"enter the word:\")\n",
    "vw1=[x for x in vw]\n",
    "vowel=['a','e','i','o','u','A','E','I','O','U']\n",
    "vw2=[x for x in vw1 if x in vowel]\n",
    "print(\"vowels in\",vw,\"are\",vw2)\n",
    "\n",
    "#ordinal values\n",
    "ordinal=[ord(x) for x in vw1]\n",
    "print(\"ordinal values of\",vw1,\"are:\",ordinal)"
   ]
  },
  {
   "cell_type": "code",
   "execution_count": null,
   "id": "b59f1502",
   "metadata": {},
   "outputs": [],
   "source": []
  }
 ],
 "metadata": {
  "kernelspec": {
   "display_name": "Python 3 (ipykernel)",
   "language": "python",
   "name": "python3"
  },
  "language_info": {
   "codemirror_mode": {
    "name": "ipython",
    "version": 3
   },
   "file_extension": ".py",
   "mimetype": "text/x-python",
   "name": "python",
   "nbconvert_exporter": "python",
   "pygments_lexer": "ipython3",
   "version": "3.10.6"
  }
 },
 "nbformat": 4,
 "nbformat_minor": 5
}
