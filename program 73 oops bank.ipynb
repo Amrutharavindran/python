{
 "cells": [
  {
   "cell_type": "code",
   "execution_count": 8,
   "id": "e5dd841d",
   "metadata": {},
   "outputs": [
    {
     "name": "stdout",
     "output_type": "stream",
     "text": [
      "Enter name: hjhk\n",
      "Enter account number: 45465\n",
      "Enter account type: savings\n",
      "Enter initial balance: 35000\n",
      "1. deposit 2. withdraw 3. account info 4.exit\n",
      " Choose your option: 1\n",
      "Deposit amount: 500\n",
      "Initial balance:  35000\n",
      "500 is deposited\n",
      "current balance:  35500\n",
      "1. deposit 2. withdraw 3. account info 4.exit\n",
      " Choose your option: 2\n",
      "Withdraw amount: 100\n",
      "Initial balance:  35500\n",
      "100  is withdrawed\n",
      "Current balance:  35400\n",
      "1. deposit 2. withdraw 3. account info 4.exit\n",
      " Choose your option: 3\n",
      "Account holder Name:  hjhk\n",
      "Account Number:  45465\n",
      "Account Type:  savings\n",
      "Account Balance:  35400\n",
      "1. deposit 2. withdraw 3. account info 4.exit\n",
      " Choose your option: 4\n",
      "Exiting...\n"
     ]
    }
   ],
   "source": [
    "class bankaccount:\n",
    "    def __init__(self,a_name, a_no,a_type,a_balance):\n",
    "        self.acc_name=a_name\n",
    "        self.acc_no=a_no\n",
    "        self.acc_type=a_type\n",
    "        self.acc_balance=a_balance\n",
    "        \n",
    "    def deposit(self,a_deposit):\n",
    "         \n",
    "        print(\"Initial balance: \",self.acc_balance)\n",
    "        self.acc_balance+=a_deposit\n",
    "        print(a_deposit, \"is deposited\")\n",
    "        print(\"current balance: \",self.acc_balance)\n",
    "\n",
    "    def withdraw(self):\n",
    "        \n",
    "        self.amount=int(input(\"Withdraw amount: \"))\n",
    "        print(\"Initial balance: \",self.acc_balance)\n",
    "        if self.amount > self.acc_balance:\n",
    "            \n",
    "            print(\"You don't have enough balance to withdraw !!\")\n",
    "            print(\"Current balance: \",self.acc_balance)\n",
    "        else:\n",
    "            \n",
    "            print(self.amount,\" is withdrawed\")\n",
    "            self.acc_balance-=self.amount\n",
    "            print(\"Current balance: \",self.acc_balance)\n",
    "    def acc_info(self):\n",
    "        \n",
    "        print(\"Account holder Name: \", self.acc_name)\n",
    "        print(\"Account Number: \", self.acc_no)\n",
    "        print(\"Account Type: \", self.acc_type)\n",
    "        print(\"Account Balance: \", self.acc_balance)\n",
    "        \n",
    "name=input(\"Enter name: \")\n",
    "no=int(input(\"Enter account number: \"))\n",
    "type=input(\"Enter account type: \")\n",
    "bal=int(input(\"Enter initial balance: \"))\n",
    "holder=bankaccount(name,no,type,bal)\n",
    "\n",
    "while(True):\n",
    "    ch=int(input(\"1. deposit 2. withdraw 3. account info 4.exit\\n Choose your option: \"))\n",
    "    if (ch==1):\n",
    "        amount=int(input(\"Deposit amount: \"))\n",
    "        holder.deposit(amount)\n",
    "    elif (ch==2):\n",
    "        holder.withdraw()\n",
    "    elif (ch==3):\n",
    "        holder.acc_info()\n",
    "    else:  \n",
    "        print(\"Exiting...\")\n",
    "        break"
   ]
  },
  {
   "cell_type": "code",
   "execution_count": null,
   "id": "cc174996",
   "metadata": {},
   "outputs": [],
   "source": []
  },
  {
   "cell_type": "code",
   "execution_count": null,
   "id": "4e106e01",
   "metadata": {},
   "outputs": [],
   "source": []
  }
 ],
 "metadata": {
  "kernelspec": {
   "display_name": "Python 3 (ipykernel)",
   "language": "python",
   "name": "python3"
  },
  "language_info": {
   "codemirror_mode": {
    "name": "ipython",
    "version": 3
   },
   "file_extension": ".py",
   "mimetype": "text/x-python",
   "name": "python",
   "nbconvert_exporter": "python",
   "pygments_lexer": "ipython3",
   "version": "3.10.6"
  }
 },
 "nbformat": 4,
 "nbformat_minor": 5
}
