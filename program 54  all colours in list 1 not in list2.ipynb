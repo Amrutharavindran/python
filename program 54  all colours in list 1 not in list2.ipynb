{
 "cells": [
  {
   "cell_type": "code",
   "execution_count": 3,
   "id": "24309384",
   "metadata": {},
   "outputs": [
    {
     "name": "stdout",
     "output_type": "stream",
     "text": [
      "The Difference of colors between list 1 and 2 is:\n",
      "{'Brown', 'yellow', 'purple'}\n"
     ]
    }
   ],
   "source": [
    "#list of colors in list 1 not contained in list 2\n",
    "list_1=set([\"Brown\",\"Black\",\"purple\",\"yellow\",\"pink\"])\n",
    "list_2=set([\"pink\",\"Black\",\"orange\"])\n",
    "print(\"The Difference of colors between list 1 and 2 is:\")\n",
    "print(list_1.difference(list_2))\n"
   ]
  },
  {
   "cell_type": "code",
   "execution_count": null,
   "id": "f781812f",
   "metadata": {},
   "outputs": [],
   "source": []
  },
  {
   "cell_type": "code",
   "execution_count": null,
   "id": "64140db9",
   "metadata": {},
   "outputs": [],
   "source": []
  }
 ],
 "metadata": {
  "kernelspec": {
   "display_name": "Python 3 (ipykernel)",
   "language": "python",
   "name": "python3"
  },
  "language_info": {
   "codemirror_mode": {
    "name": "ipython",
    "version": 3
   },
   "file_extension": ".py",
   "mimetype": "text/x-python",
   "name": "python",
   "nbconvert_exporter": "python",
   "pygments_lexer": "ipython3",
   "version": "3.10.6"
  }
 },
 "nbformat": 4,
 "nbformat_minor": 5
}
