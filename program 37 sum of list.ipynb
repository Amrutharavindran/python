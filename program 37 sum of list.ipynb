{
 "cells": [
  {
   "cell_type": "code",
   "execution_count": 1,
   "id": "bdc2532f",
   "metadata": {},
   "outputs": [
    {
     "name": "stdout",
     "output_type": "stream",
     "text": [
      "Total number:4\n",
      "Enter the number:12\n",
      "Enter the number:6\n",
      "Enter the number:5\n",
      "Enter the number:9\n",
      "Sum of number in the list: 32\n"
     ]
    }
   ],
   "source": [
    "#sum of all items in a list\n",
    "list=[]\n",
    "num=int(input(\"Total number:\"))\n",
    "for i in range(num):\n",
    "    a=int(input(\"Enter the number:\"))\n",
    "    list.append(a)\n",
    "print(\"Sum of number in the list:\",sum(list))   "
   ]
  },
  {
   "cell_type": "code",
   "execution_count": null,
   "id": "dffc9d2d",
   "metadata": {},
   "outputs": [],
   "source": []
  }
 ],
 "metadata": {
  "kernelspec": {
   "display_name": "Python 3 (ipykernel)",
   "language": "python",
   "name": "python3"
  },
  "language_info": {
   "codemirror_mode": {
    "name": "ipython",
    "version": 3
   },
   "file_extension": ".py",
   "mimetype": "text/x-python",
   "name": "python",
   "nbconvert_exporter": "python",
   "pygments_lexer": "ipython3",
   "version": "3.10.6"
  }
 },
 "nbformat": 4,
 "nbformat_minor": 5
}
